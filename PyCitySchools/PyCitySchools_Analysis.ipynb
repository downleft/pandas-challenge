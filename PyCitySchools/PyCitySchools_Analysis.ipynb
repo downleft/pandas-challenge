{
 "cells": [
  {
   "cell_type": "markdown",
   "id": "8d87768c",
   "metadata": {},
   "source": [
    "# PyCity Schools Analysis"
   ]
  },
  {
   "cell_type": "code",
   "execution_count": null,
   "id": "a2732603",
   "metadata": {},
   "outputs": [],
   "source": [
    "#Setup Pandas and Importation\n",
    "import pandas as pd\n",
    "from pathlib import Path\n",
    "\n",
    "# Access Data Files\n",
    "school_data_to_load = Path(\"../Resources/schools_complete.csv\")\n",
    "student_data_to_load = Path(\"../Resources/students_complete.csv\")\n",
    "\n",
    "# Store Data in Pandas DataFrames\n",
    "school_data = pd.read_csv(school_data_to_load)\n",
    "student_data = pd.read_csv(student_data_to_load)\n",
    "\n",
    "# Combine the data into a single dataset.  \n",
    "school_data_complete = pd.merge(student_data, school_data, how=\"left\", on=[\"school_name\", \"school_name\"])\n",
    "school_data_complete.head()"
   ]
  },
  {
   "cell_type": "code",
   "execution_count": null,
   "id": "47ac12da",
   "metadata": {},
   "outputs": [],
   "source": [
    "# Total number of unique schools\n",
    "school_count = len(school_data_complete[\"school_name\"].unique())\n",
    "school_count"
   ]
  },
  {
   "cell_type": "code",
   "execution_count": null,
   "id": "5220a779",
   "metadata": {},
   "outputs": [],
   "source": [
    "# Total students\n",
    "student_count = school_data_complete[\"student_name\"].count()\n",
    "student_count"
   ]
  },
  {
   "cell_type": "code",
   "execution_count": null,
   "id": "542cfc17",
   "metadata": {},
   "outputs": [],
   "source": [
    "# Total budget: Sum unique budgets (one budget per school)\n",
    "total_budget = school_data_complete[\"budget\"].unique().sum()\n",
    "total_budget"
   ]
  },
  {
   "cell_type": "code",
   "execution_count": null,
   "id": "98ccbc0f",
   "metadata": {},
   "outputs": [],
   "source": [
    "# Average (mean) math score\n",
    "average_math_score = school_data_complete[\"math_score\"].mean()\n",
    "average_math_score"
   ]
  },
  {
   "cell_type": "code",
   "execution_count": null,
   "id": "7c3faa15",
   "metadata": {},
   "outputs": [],
   "source": [
    "# Average reading score\n",
    "average_reading_score = school_data_complete[\"reading_score\"].mean()\n",
    "average_reading_score"
   ]
  },
  {
   "cell_type": "code",
   "execution_count": null,
   "id": "79c99281",
   "metadata": {},
   "outputs": [],
   "source": [
    "# % of students who passed math (math scores greather than or equal to 70) (pulled directly from starter code)\n",
    "passing_math_count = school_data_complete[(school_data_complete[\"math_score\"] >= 70)].count()[\"student_name\"]\n",
    "passing_math_percentage = passing_math_count / float(student_count) * 100\n",
    "passing_math_percentage"
   ]
  },
  {
   "cell_type": "code",
   "execution_count": null,
   "id": "32cc4bd3",
   "metadata": {},
   "outputs": [],
   "source": [
    "# % of students who passed reading with scores >= 70\n",
    "passing_reading_count = school_data_complete[(school_data_complete[\"reading_score\"] >= 70)].count()[\"student_name\"]\n",
    "passing_reading_percentage = passing_reading_count / float(student_count) * 100\n",
    "passing_reading_percentage"
   ]
  },
  {
   "cell_type": "code",
   "execution_count": null,
   "id": "47376e33",
   "metadata": {},
   "outputs": [],
   "source": [
    "# % of students that passed math and reading (pulled directly from starter code)\n",
    "passing_math_reading_count = school_data_complete[\n",
    "    (school_data_complete[\"math_score\"] >= 70) & (school_data_complete[\"reading_score\"] >= 70)\n",
    "].count()[\"student_name\"]\n",
    "overall_passing_rate = passing_math_reading_count /  float(student_count) * 100\n",
    "overall_passing_rate"
   ]
  },
  {
   "cell_type": "code",
   "execution_count": null,
   "id": "c298b10e",
   "metadata": {},
   "outputs": [],
   "source": [
    "# School Summary\n",
    "district_summary = pd.DataFrame([{\"Total Schools\":school_count, \"Total Students\":student_count,\n",
    "                                  \"Total Budget\":total_budget, \"Average Math Score\":average_math_score,\n",
    "                                  \"Average Reading Score\":average_reading_score,\n",
    "                                  \"% Passing Math\":passing_math_percentage,\n",
    "                                  \"% Passing Reading\":passing_reading_percentage,\n",
    "                                  \"% Overall Passing\":overall_passing_rate\n",
    "                                 }])\n",
    "\n",
    "# Formatting\n",
    "district_summary[\"Total Students\"] = district_summary[\"Total Students\"].map(\"{:,}\".format)\n",
    "district_summary[\"Total Budget\"] = district_summary[\"Total Budget\"].map(\"${:,.2f}\".format)\n",
    "\n",
    "# Display the DataFrame\n",
    "district_summary"
   ]
  },
  {
   "cell_type": "markdown",
   "id": "3e8d1036",
   "metadata": {},
   "source": [
    "# School Summary"
   ]
  },
  {
   "cell_type": "code",
   "execution_count": null,
   "id": "1343702e",
   "metadata": {},
   "outputs": [],
   "source": [
    "# Use the code provided to select all of the school types\n",
    "school_types = school_data_complete[[\"school_name\",\"type\"]].drop_duplicates()\n",
    "school_types = school_types.rename(columns = {\"school_name\" : \" \", \"type\" : \"School Type\"}).set_index(\" \").sort_index()\n",
    "school_types"
   ]
  },
  {
   "cell_type": "code",
   "execution_count": null,
   "id": "c8e3fba7",
   "metadata": {},
   "outputs": [],
   "source": [
    "# Calculate per school student count\n",
    "school_counts = school_data_complete[[\"school_name\", \"size\"]]\n",
    "per_school_counts = school_counts.groupby([\"school_name\"]).size()\n",
    "per_school_counts"
   ]
  },
  {
   "cell_type": "code",
   "execution_count": null,
   "id": "7686470b",
   "metadata": {},
   "outputs": [],
   "source": [
    "#Calculate total school budget and per capita spending\n",
    "per_school_budget = school_data_complete[[\"school_name\",\"budget\"]].drop_duplicates().set_index(\"school_name\")\n",
    "per_school_capita = per_school_budget\n",
    "per_school_capita[\"size\"] = per_school_counts\n",
    "per_school_capita[\"per capita spending\"] = per_school_capita[\"budget\"]/per_school_capita[\"size\"]"
   ]
  },
  {
   "cell_type": "code",
   "execution_count": null,
   "id": "2bf7f5b8",
   "metadata": {},
   "outputs": [],
   "source": [
    "#Calculate average test score per school\n",
    "mathscores = school_data_complete[[\"school_name\", \"math_score\"]]\n",
    "per_school_math = mathscores.groupby([\"school_name\"]).mean()\n",
    "\n",
    "readingscores = school_data_complete[[\"school_name\", \"reading_score\"]]\n",
    "per_school_reading = readingscores.groupby([\"school_name\"]).mean()"
   ]
  },
  {
   "cell_type": "code",
   "execution_count": null,
   "id": "e59aa4a4",
   "metadata": {},
   "outputs": [],
   "source": [
    "#Calculate % students passing math with score of 70+\n",
    "students_passing_math = mathscores.loc[(mathscores[\"math_score\"]>=70),:]\n",
    "school_students_passing_math = students_passing_math.groupby([\"school_name\"]).size()"
   ]
  },
  {
   "cell_type": "code",
   "execution_count": null,
   "id": "8d15292c",
   "metadata": {},
   "outputs": [],
   "source": [
    "#Calculate % students passing reading with score of 70+\n",
    "students_passing_reading = readingscores.loc[(readingscores[\"reading_score\"]>=70),:]\n",
    "school_students_passing_reading = students_passing_reading.groupby([\"school_name\"]).size()"
   ]
  },
  {
   "cell_type": "code",
   "execution_count": null,
   "id": "397d6d13",
   "metadata": {},
   "outputs": [],
   "source": [
    "# Use the provided code to calculate the number of students per school that passed both math and reading with scores of 70 or higher\n",
    "students_passing_math_and_reading = school_data_complete[\n",
    "    (school_data_complete[\"reading_score\"] >= 70) & (school_data_complete[\"math_score\"] >= 70)\n",
    "]\n",
    "school_students_passing_math_and_reading = students_passing_math_and_reading.groupby([\"school_name\"]).size()"
   ]
  },
  {
   "cell_type": "code",
   "execution_count": null,
   "id": "98c738fd",
   "metadata": {},
   "outputs": [],
   "source": [
    "# Use the provided code to calculate the passing rates\n",
    "per_school_passing_math = school_students_passing_math / per_school_counts * 100\n",
    "per_school_passing_reading = school_students_passing_reading / per_school_counts * 100\n",
    "overall_passing_rate = school_students_passing_math_and_reading / per_school_counts * 100"
   ]
  },
  {
   "cell_type": "code",
   "execution_count": null,
   "id": "e5531aeb",
   "metadata": {},
   "outputs": [],
   "source": [
    "# Create a DataFrame called `per_school_summary` with columns for the calculations above.\n",
    "per_school_summary = school_types\n",
    "per_school_summary[\"Total Students\"] = per_school_counts\n",
    "per_school_summary[\"Total School Budget\"] = per_school_budget[\"budget\"]\n",
    "per_school_summary[\"Per Student Budget\"] = per_school_capita[\"per capita spending\"]\n",
    "per_school_summary[\"Average Math Score\"] = per_school_math\n",
    "per_school_summary[\"Average Reading Score\"] = per_school_reading\n",
    "per_school_summary[\"% Passing Math\"] = per_school_passing_math\n",
    "per_school_summary[\"% Passing Reading\"] = per_school_passing_reading\n",
    "per_school_summary[\"% Overall Passing\"] = overall_passing_rate\n",
    "\n",
    "# Formatting\n",
    "per_school_summary[\"Total School Budget\"] = per_school_summary[\"Total School Budget\"].map(\"${:,.2f}\".format)\n",
    "per_school_summary[\"Per Student Budget\"] = per_school_summary[\"Per Student Budget\"].map(\"${:,.2f}\".format)\n",
    "\n",
    "# Display the DataFrame\n",
    "per_school_summary"
   ]
  },
  {
   "cell_type": "markdown",
   "id": "ef130faa",
   "metadata": {},
   "source": [
    "# Highest-Performing Schools (by % Overall Passing)"
   ]
  },
  {
   "cell_type": "code",
   "execution_count": null,
   "id": "7adcfd31",
   "metadata": {},
   "outputs": [],
   "source": [
    "# Sort the schools by `% Overall Passing` in descending order and display the top 5 rows.\n",
    "top_schools = per_school_summary.sort_values([\"% Overall Passing\"], ascending = False)\n",
    "top_schools.head(5)"
   ]
  },
  {
   "cell_type": "code",
   "execution_count": null,
   "id": "5bef9848",
   "metadata": {},
   "outputs": [],
   "source": [
    "# Sort the schools by `% Overall Passing` in ascending order and display the top 5 rows.\n",
    "bottom_schools = per_school_summary.sort_values([\"% Overall Passing\"], ascending = True)\n",
    "bottom_schools.head(5)"
   ]
  },
  {
   "cell_type": "markdown",
   "id": "2c5dbc8f",
   "metadata": {},
   "source": [
    "# Math Scores By Grade"
   ]
  },
  {
   "cell_type": "code",
   "execution_count": null,
   "id": "86904830",
   "metadata": {},
   "outputs": [],
   "source": [
    "# Use the code provided to separate the data by grade\n",
    "ninth_graders = school_data_complete[(school_data_complete[\"grade\"] == \"9th\")]\n",
    "tenth_graders = school_data_complete[(school_data_complete[\"grade\"] == \"10th\")]\n",
    "eleventh_graders = school_data_complete[(school_data_complete[\"grade\"] == \"11th\")]\n",
    "twelfth_graders = school_data_complete[(school_data_complete[\"grade\"] == \"12th\")]\n",
    "\n",
    "# Group by `school_name` and take the mean of the `math_score` column for each.\n",
    "ninth_grade_math_scores = ninth_graders[[\"school_name\", \"math_score\"]].groupby([\"school_name\"]).mean().rename(columns = {\"math_score\": \"9th\"})\n",
    "tenth_grade_math_scores = tenth_graders[[\"school_name\", \"math_score\"]].groupby([\"school_name\"]).mean().rename(columns = {\"math_score\": \"10th\"})\n",
    "eleventh_grade_math_scores = eleventh_graders[[\"school_name\", \"math_score\"]].groupby([\"school_name\"]).mean().rename(columns = {\"math_score\": \"11th\"})\n",
    "twelfth_grade_math_scores = twelfth_graders[[\"school_name\", \"math_score\"]].groupby([\"school_name\"]).mean().rename(columns = {\"math_score\": \"12th\"})\n",
    "\n",
    "# Combine each of the scores above into single DataFrame called `math_scores_by_grade`\n",
    "math_scores_by_grade = pd.merge(ninth_grade_math_scores, tenth_grade_math_scores, how=\"left\", on=[\"school_name\"])\n",
    "math_scores_by_grade = pd.merge(math_scores_by_grade, eleventh_grade_math_scores, how=\"left\", on=[\"school_name\"])\n",
    "math_scores_by_grade = pd.merge(math_scores_by_grade, twelfth_grade_math_scores, how=\"left\", on=[\"school_name\"])\n",
    "\n",
    "# Minor data wrangling\n",
    "math_scores_by_grade.index.name = None\n",
    "\n",
    "# Display the DataFrame\n",
    "math_scores_by_grade"
   ]
  },
  {
   "cell_type": "markdown",
   "id": "3e4c6cc7",
   "metadata": {},
   "source": [
    "# Reading Score by Grade"
   ]
  },
  {
   "cell_type": "code",
   "execution_count": null,
   "id": "2faed818",
   "metadata": {},
   "outputs": [],
   "source": [
    "# Use the code provided to separate the data by grade\n",
    "ninth_graders = school_data_complete[(school_data_complete[\"grade\"] == \"9th\")]\n",
    "tenth_graders = school_data_complete[(school_data_complete[\"grade\"] == \"10th\")]\n",
    "eleventh_graders = school_data_complete[(school_data_complete[\"grade\"] == \"11th\")]\n",
    "twelfth_graders = school_data_complete[(school_data_complete[\"grade\"] == \"12th\")]\n",
    "\n",
    "# Group by `school_name` and take the mean of the the `reading_score` column for each.\n",
    "ninth_grade_reading_scores = ninth_graders[[\"school_name\", \"reading_score\"]].groupby([\"school_name\"]).mean().rename(columns = {\"reading_score\": \"9th\"})\n",
    "tenth_grade_reading_scores = tenth_graders[[\"school_name\", \"reading_score\"]].groupby([\"school_name\"]).mean().rename(columns = {\"reading_score\": \"10th\"})\n",
    "eleventh_grade_reading_scores = eleventh_graders[[\"school_name\", \"reading_score\"]].groupby([\"school_name\"]).mean().rename(columns = {\"reading_score\": \"11th\"})\n",
    "twelfth_grade_reading_scores = twelfth_graders[[\"school_name\", \"reading_score\"]].groupby([\"school_name\"]).mean().rename(columns = {\"reading_score\": \"12th\"})\n",
    "\n",
    "# Combine each of the scores above into single DataFrame called `reading_scores_by_grade`\n",
    "reading_scores_by_grade = pd.merge(ninth_grade_reading_scores, tenth_grade_reading_scores, how=\"left\", on=[\"school_name\"])\n",
    "reading_scores_by_grade = pd.merge(reading_scores_by_grade, eleventh_grade_reading_scores, how=\"left\", on=[\"school_name\"])\n",
    "reading_scores_by_grade = pd.merge(reading_scores_by_grade, twelfth_grade_reading_scores, how=\"left\", on=[\"school_name\"])\n",
    "\n",
    "# Minor data wrangling\n",
    "reading_scores_by_grade = reading_scores_by_grade[[\"9th\", \"10th\", \"11th\", \"12th\"]]\n",
    "reading_scores_by_grade.index.name = None\n",
    "\n",
    "# Display the DataFrame\n",
    "reading_scores_by_grade"
   ]
  },
  {
   "cell_type": "markdown",
   "id": "b661ba47",
   "metadata": {},
   "source": [
    "# Scores by School Spending"
   ]
  },
  {
   "cell_type": "code",
   "execution_count": null,
   "id": "58c0d3a8",
   "metadata": {},
   "outputs": [],
   "source": [
    "# Establish the bins \n",
    "spending_bins = [0, 585, 630, 645, 680]\n",
    "labels = [\"<$585\", \"$585-630\", \"$630-645\", \"$645-680\"]"
   ]
  },
  {
   "cell_type": "code",
   "execution_count": null,
   "id": "97e312d6",
   "metadata": {},
   "outputs": [],
   "source": [
    "# Create a copy of the school summary since it has the \"Per Student Budget\" \n",
    "school_spending_df = per_school_summary.copy()"
   ]
  },
  {
   "cell_type": "code",
   "execution_count": null,
   "id": "9ca51aaf",
   "metadata": {},
   "outputs": [],
   "source": [
    "# Use `pd.cut` to categorize spending based on the bins.\n",
    "school_spending_df[\"Per Student Budget\"] = per_school_capita[\"per capita spending\"]\n",
    "school_spending_df[\"Spending Ranges (Per Student)\"] = pd.cut(school_spending_df[\"Per Student Budget\"], spending_bins, labels = labels)\n",
    "school_spending_df[\"Per Student Budget\"] = school_spending_df[\"Per Student Budget\"].map(\"${:,.2f}\".format)\n",
    "school_spending_df"
   ]
  },
  {
   "cell_type": "code",
   "execution_count": null,
   "id": "c0d47f06",
   "metadata": {},
   "outputs": [],
   "source": [
    "#  Calculate averages for the desired columns. \n",
    "spending_math_scores = school_spending_df.groupby([\"Spending Ranges (Per Student)\"])[\"Average Math Score\"].mean()\n",
    "spending_reading_scores = school_spending_df.groupby([\"Spending Ranges (Per Student)\"])[\"Average Reading Score\"].mean()\n",
    "spending_passing_math = school_spending_df.groupby([\"Spending Ranges (Per Student)\"])[\"% Passing Math\"].mean()\n",
    "spending_passing_reading = school_spending_df.groupby([\"Spending Ranges (Per Student)\"])[\"% Passing Reading\"].mean()\n",
    "overall_passing_spending = school_spending_df.groupby([\"Spending Ranges (Per Student)\"])[\"% Overall Passing\"].mean()"
   ]
  },
  {
   "cell_type": "code",
   "execution_count": null,
   "id": "7314da97",
   "metadata": {},
   "outputs": [],
   "source": [
    "# Assemble into DataFrame\n",
    "spending_summary = pd.DataFrame(labels, columns = [\"Spending Ranges\"]).set_index(\"Spending Ranges\")\n",
    "spending_summary[\"Average Math Scores\"] = spending_math_scores\n",
    "spending_summary[\"Average Reading Scores\"] = spending_reading_scores\n",
    "spending_summary[\"% Passing Math\"] = spending_passing_math\n",
    "spending_summary[\"% Passing Reading\"] = spending_passing_reading\n",
    "spending_summary[\"% Overall Passing\"] = overall_passing_spending\n",
    "\n",
    "# Display results\n",
    "spending_summary"
   ]
  },
  {
   "cell_type": "markdown",
   "id": "b172a84b",
   "metadata": {},
   "source": [
    "# Scores by School Size"
   ]
  },
  {
   "cell_type": "code",
   "execution_count": null,
   "id": "d6bb2aec",
   "metadata": {},
   "outputs": [],
   "source": [
    "# Establish the bins.\n",
    "size_bins = [0, 1000, 2000, 5000]\n",
    "labels = [\"Small (<1000)\", \"Medium (1000-2000)\", \"Large (2000-5000)\"]"
   ]
  },
  {
   "cell_type": "code",
   "execution_count": null,
   "id": "22de8875",
   "metadata": {},
   "outputs": [],
   "source": [
    "# Categorize the spending based on the bins\n",
    "# Use `pd.cut` on the \"Total Students\" column of the `per_school_summary` DataFrame.\n",
    "\n",
    "per_school_summary[\"School Size\"] = pd.cut(per_school_summary[\"Total Students\"], size_bins, labels = labels)\n",
    "per_school_summary"
   ]
  },
  {
   "cell_type": "code",
   "execution_count": null,
   "id": "bc75041c",
   "metadata": {},
   "outputs": [],
   "source": [
    "# Calculate averages for the desired columns. \n",
    "size_math_scores = per_school_summary.groupby([\"School Size\"])[\"Average Math Score\"].mean()\n",
    "size_reading_scores = per_school_summary.groupby([\"School Size\"])[\"Average Reading Score\"].mean()\n",
    "size_passing_math = per_school_summary.groupby([\"School Size\"])[\"% Passing Math\"].mean()\n",
    "size_passing_reading = per_school_summary.groupby([\"School Size\"])[\"% Passing Reading\"].mean()\n",
    "size_overall_passing = per_school_summary.groupby([\"School Size\"])[\"% Overall Passing\"].mean()"
   ]
  },
  {
   "cell_type": "code",
   "execution_count": null,
   "id": "982805c3",
   "metadata": {},
   "outputs": [],
   "source": [
    "# Create a DataFrame called `size_summary` that breaks down school performance based on school size (small, medium, or large).\n",
    "# Use the scores above to create a new DataFrame called `size_summary`\n",
    "size_summary = pd.DataFrame(labels, columns = [\"School Size\"]).set_index(\"School Size\")\n",
    "size_summary[\"Average Math Score\"] = size_math_scores\n",
    "size_summary[\"Average Reading Score\"] = size_reading_scores\n",
    "size_summary[\"% Passing Math\"] = size_passing_math\n",
    "size_summary[\"% Passing Reading\"] = size_passing_reading\n",
    "size_summary[\"% Overall Passing\"] = size_overall_passing\n",
    "\n",
    "# Display results\n",
    "size_summary"
   ]
  },
  {
   "cell_type": "markdown",
   "id": "96d2b1c7",
   "metadata": {},
   "source": [
    "# Scores by School Type"
   ]
  },
  {
   "cell_type": "code",
   "execution_count": null,
   "id": "7e2c00af",
   "metadata": {},
   "outputs": [],
   "source": [
    "# Group the per_school_summary DataFrame by \"School Type\" and average the results.\n",
    "average_math_score_by_type = per_school_summary.groupby([\"School Type\"])[\"Average Math Score\"].mean()\n",
    "average_reading_score_by_type = per_school_summary.groupby([\"School Type\"])[\"Average Reading Score\"].mean()\n",
    "average_percent_passing_math_by_type = per_school_summary.groupby([\"School Type\"])[\"% Passing Math\"].mean()\n",
    "average_percent_passing_reading_by_type = per_school_summary.groupby([\"School Type\"])[\"% Passing Reading\"].mean()\n",
    "average_percent_overall_passing_by_type = per_school_summary.groupby([\"School Type\"])[\"% Overall Passing\"].mean()"
   ]
  },
  {
   "cell_type": "code",
   "execution_count": null,
   "id": "9a274889",
   "metadata": {},
   "outputs": [],
   "source": [
    "# Assemble the new data by type into a DataFrame called `type_summary`\n",
    "type_summary = pd.DataFrame(columns = [\"School Type\"]).set_index(\"School Type\")\n",
    "type_summary[\"Average Math Score\"] = average_math_score_by_type\n",
    "type_summary[\"Average Reading Score\"] = average_reading_score_by_type\n",
    "type_summary[\"% Passing Math\"] = average_percent_passing_math_by_type\n",
    "type_summary[\"% Passing Reading\"] = average_percent_passing_reading_by_type\n",
    "type_summary[\"% Overall Passing\"] = average_percent_overall_passing_by_type\n",
    "\n",
    "# Display results\n",
    "type_summary"
   ]
  },
  {
   "cell_type": "code",
   "execution_count": null,
   "id": "bfbd813d",
   "metadata": {},
   "outputs": [],
   "source": []
  }
 ],
 "metadata": {
  "kernelspec": {
   "display_name": "Python 3 (ipykernel)",
   "language": "python",
   "name": "python3"
  },
  "language_info": {
   "codemirror_mode": {
    "name": "ipython",
    "version": 3
   },
   "file_extension": ".py",
   "mimetype": "text/x-python",
   "name": "python",
   "nbconvert_exporter": "python",
   "pygments_lexer": "ipython3",
   "version": "3.10.13"
  }
 },
 "nbformat": 4,
 "nbformat_minor": 5
}
